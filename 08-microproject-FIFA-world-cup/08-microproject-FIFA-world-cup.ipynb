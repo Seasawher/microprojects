{
 "cells": [
  {
   "cell_type": "markdown",
   "metadata": {},
   "source": [
    "<h1 style=\"text-align: center\">\n",
    "<div style=\"color: #DD3403; font-size: 60%\">Data Science DISCOVERY MicroProject #08</div>\n",
    "<span style=\"\">MicroProject: FIFA World Cup</span>\n",
    "<div style=\"font-size: 60%;\"><a href=\"https://discovery.cs.illinois.edu/microproject/08-fifa-world-cup\">https://discovery.cs.illinois.edu/microproject/08-fifa-world-cup</a></div>\n",
    "</h1>\n",
    "\n",
    "<hr style=\"color: #DD3403;\">\n"
   ]
  },
  {
   "cell_type": "markdown",
   "metadata": {},
   "source": [
    "## Data Source: International Soccer Match Data via GitHub\n",
    "\n",
    "The FIFA World Cup is a global football(soccer) competition contested by the senior men's national teams which occurs every 4 years. It is likely the most popular sporting event in the world, drawing billions of television viewers every tournament. The 2022 FIFA World Cup will be hosted in Qatar and began on November 20th.\n",
    "\n",
    "This dataset includes over 44,000 results of international football matches starting from the very first official match in 1872 up to 2022. The matches range from FIFA World Cup to FIFI Wild Cup to regular friendly matches. The matches are strictly men's full internationals and the data does not include Olympic Games or matches where at least one of the teams was the nation's B-team, U-23 or a league select team.\n",
    "\n",
    "You can view their Match Data GitHub repository here: [https://github.com/martj42/international_results](https://github.com/martj42/international_results). You can find all the match results by navigating into the repository:\n",
    "\n",
    "- Click **results.csv**\n",
    "- Click the **View Raw** button to above the file contents to navigate to the raw CSV version of the file (without the GitHub interface)\n",
    "- Use the URL of the **raw data as your dataset** for this MicroProject.\n",
    "\n",
    "Use panda's `read_csv` function to read the dataset you found and create a DataFrame called `df` and drop all rows containing a NaN value:\n",
    "\n",
    "\\*Note: to learn more about the columns in the imported dataframe navigate the the github page and read the README.md file\n"
   ]
  },
  {
   "cell_type": "code",
   "execution_count": 15,
   "metadata": {},
   "outputs": [
    {
     "name": "stdout",
     "output_type": "stream",
     "text": [
      "         date home_team away_team  home_score  away_score tournament     city  \\\n",
      "0  1872-11-30  Scotland   England           0           0   Friendly  Glasgow   \n",
      "1  1873-03-08   England  Scotland           4           2   Friendly   London   \n",
      "2  1874-03-07  Scotland   England           2           1   Friendly  Glasgow   \n",
      "3  1875-03-06   England  Scotland           2           2   Friendly   London   \n",
      "4  1876-03-04  Scotland   England           3           0   Friendly  Glasgow   \n",
      "\n",
      "    country  neutral  \n",
      "0  Scotland    False  \n",
      "1   England    False  \n",
      "2  Scotland    False  \n",
      "3   England    False  \n",
      "4  Scotland    False  \n"
     ]
    }
   ],
   "source": [
    "import pandas as pd\n",
    "\n",
    "url = (\n",
    "    \"https://raw.githubusercontent.com/martj42/international_results/master/results.csv\"\n",
    ")\n",
    "df = pd.read_csv(url)\n",
    "print(df.head())"
   ]
  },
  {
   "cell_type": "markdown",
   "metadata": {},
   "source": [
    "Remove all rows containing `NaN` values and save this data frame as `df_clean`\n"
   ]
  },
  {
   "cell_type": "code",
   "execution_count": 13,
   "metadata": {},
   "outputs": [
    {
     "name": "stdout",
     "output_type": "stream",
     "text": [
      "         date home_team away_team  home_score  away_score tournament     city  \\\n",
      "0  1872-11-30  Scotland   England           0           0   Friendly  Glasgow   \n",
      "1  1873-03-08   England  Scotland           4           2   Friendly   London   \n",
      "2  1874-03-07  Scotland   England           2           1   Friendly  Glasgow   \n",
      "3  1875-03-06   England  Scotland           2           2   Friendly   London   \n",
      "4  1876-03-04  Scotland   England           3           0   Friendly  Glasgow   \n",
      "\n",
      "    country  neutral  \n",
      "0  Scotland    False  \n",
      "1   England    False  \n",
      "2  Scotland    False  \n",
      "3   England    False  \n",
      "4  Scotland    False  \n"
     ]
    }
   ],
   "source": [
    "df_clean = df.copy()\n",
    "df_clean.dropna()\n",
    "print(df_clean.head())"
   ]
  },
  {
   "cell_type": "markdown",
   "metadata": {},
   "source": [
    "### 🔬 Checkpoint Tests 🔬\n"
   ]
  },
  {
   "cell_type": "code",
   "execution_count": 7,
   "metadata": {},
   "outputs": [
    {
     "name": "stdout",
     "output_type": "stream",
     "text": [
      "🎉 All Tests Passed! 🎉\n"
     ]
    }
   ],
   "source": [
    "## == CHECKPOINT TESTS ==\n",
    "# - This read-only cell contains a \"checkpoint\" for this section of the MicroProejct and verifies you are on the right track.\n",
    "# - If this cell results in a celebration message, you PASSED all test cases!\n",
    "# - If this cell results in any errors, check you previous cells, make changes, and RE-RUN your code and then this cell.\n",
    "\n",
    "tada = \"\\N{PARTY POPPER}\"\n",
    "\n",
    "assert \"df\" in vars()\n",
    "assert \"df_clean\" in vars()\n",
    "assert df_clean.isna().sum().sum() == 0\n",
    "assert \"home_team\" in df\n",
    "assert \"Score\" not in df\n",
    "print(f\"{tada} All Tests Passed! {tada}\")"
   ]
  },
  {
   "cell_type": "markdown",
   "metadata": {},
   "source": [
    "<hr style=\"color: #DD3403;\">\n"
   ]
  },
  {
   "cell_type": "markdown",
   "metadata": {},
   "source": [
    "## Part 1: EDA\n",
    "\n",
    "The DataFrame currently has data about every match played, but it's often useful to view aggregated information about each country.\n",
    "\n",
    "Create a summary of in a new DataFrame, `df_home_goals`, that has the total goals **that each nation has sorted** at home in descending order. That is, each `home_team` needs to have a total of the `home_goals` across all games they have played.\n"
   ]
  },
  {
   "cell_type": "code",
   "execution_count": 28,
   "metadata": {},
   "outputs": [
    {
     "name": "stdout",
     "output_type": "stream",
     "text": [
      "        home_team  home_score\n",
      "0     Afghanistan           9\n",
      "1         Albania         103\n",
      "2         Algeria         171\n",
      "3  American Samoa           6\n",
      "4         Andorra          20\n",
      "     home_team  home_score\n",
      "27      Brazil         769\n",
      "8    Argentina         704\n",
      "76     Germany         565\n",
      "126     Mexico         485\n",
      "182      Spain         481\n"
     ]
    }
   ],
   "source": [
    "url = \"https://raw.githubusercontent.com/martj42/international_results/master/goalscorers.csv\"\n",
    "df_goalscores = pd.read_csv(url)\n",
    "\n",
    "df_goalscores_at_home = df_goalscores[\n",
    "    df_goalscores[\"home_team\"] == df_goalscores[\"team\"]\n",
    "]\n",
    "\n",
    "df_home_goals = (\n",
    "    df_goalscores_at_home.groupby(\"home_team\")\n",
    "    .size()\n",
    "    .to_frame(\"home_score\")\n",
    "    .reset_index()\n",
    ")\n",
    "df_home_goals = df_home_goals.sort_values(by=\"home_score\", ascending=False)\n",
    "print(df_home_goals.head())"
   ]
  },
  {
   "cell_type": "markdown",
   "metadata": {},
   "source": [
    "### Away Team and Away Goals\n",
    "\n",
    "How about for away_goals? Call this DataFrame `df_away_goals`:\n"
   ]
  },
  {
   "cell_type": "code",
   "execution_count": 30,
   "metadata": {},
   "outputs": [
    {
     "name": "stdout",
     "output_type": "stream",
     "text": [
      "      away_team  away_score\n",
      "115  Luxembourg         428\n",
      "167  San Marino         404\n",
      "151    Paraguay         398\n",
      "122       Malta         395\n",
      "50       Cyprus         382\n"
     ]
    }
   ],
   "source": [
    "df_goalscores_away = df_goalscores[df_goalscores[\"away_team\"] == df_goalscores[\"team\"]]\n",
    "\n",
    "df_away_goals = (\n",
    "    df_goalscores_at_home.groupby(\"away_team\")\n",
    "    .size()\n",
    "    .to_frame(\"away_score\")\n",
    "    .reset_index()\n",
    ")\n",
    "df_away_goals = df_away_goals.sort_values(by=\"away_score\", ascending=False)\n",
    "print(df_away_goals.head())"
   ]
  },
  {
   "cell_type": "markdown",
   "metadata": {},
   "source": [
    "### 🔬 Checkpoint Tests 🔬\n"
   ]
  },
  {
   "cell_type": "code",
   "execution_count": 38,
   "metadata": {},
   "outputs": [
    {
     "name": "stdout",
     "output_type": "stream",
     "text": [
      "🎉 All Tests Passed! 🎉\n"
     ]
    }
   ],
   "source": [
    "## == CHECKPOINT TESTS ==\n",
    "# - This read-only cell contains a \"checkpoint\" for this section of the MicroProejct and verifies you are on the right track.\n",
    "# - If this cell results in a celebration message, you PASSED all test cases!\n",
    "# - If this cell results in any errors, check you previous cells, make changes, and RE-RUN your code and then this cell.\n",
    "tada = \"\\N{PARTY POPPER}\"\n",
    "\n",
    "assert \"df_home_goals\" in vars()\n",
    "assert \"df_away_goals\" in vars()\n",
    "\n",
    "assert df_home_goals.iloc[20][\"home_score\"] < df_home_goals.iloc[0][\"home_score\"]\n",
    "assert df_home_goals.iloc[56][\"home_score\"] < df_home_goals.iloc[0][\"home_score\"]\n",
    "assert df_home_goals.iloc[56][\"home_score\"] < df_home_goals.iloc[20][\"home_score\"]\n",
    "\n",
    "assert df_away_goals.iloc[20][\"away_score\"] < df_away_goals.iloc[0][\"away_score\"]\n",
    "assert df_away_goals.iloc[56][\"away_score\"] < df_away_goals.iloc[0][\"away_score\"]\n",
    "assert df_away_goals.iloc[56][\"away_score\"] < df_away_goals.iloc[20][\"away_score\"]\n",
    "\n",
    "\n",
    "print(f\"{tada} All Tests Passed! {tada}\")"
   ]
  },
  {
   "cell_type": "markdown",
   "metadata": {},
   "source": [
    "<hr style=\"color: #DD3403;\">\n"
   ]
  },
  {
   "cell_type": "markdown",
   "metadata": {},
   "source": [
    "## Part 2: World Cup\n",
    "\n",
    "In the DataSet, the `tournament` column provides the tournament where the game was played.\n",
    "\n",
    "World Cup games are the only international matches played on Nov. 30, 2022 (`2022-11-30`). Find the `tournament` string used for games during the World Cup by looking at games with the `date` during the world cup.\n"
   ]
  },
  {
   "cell_type": "code",
   "execution_count": 34,
   "metadata": {},
   "outputs": [
    {
     "name": "stdout",
     "output_type": "stream",
     "text": [
      "             date     home_team  away_team  home_score  away_score  \\\n",
      "44325  2022-11-30        Poland  Argentina           0           2   \n",
      "44326  2022-11-30  Saudi Arabia     Mexico           1           2   \n",
      "44327  2022-11-30     Australia    Denmark           1           0   \n",
      "44328  2022-11-30       Tunisia     France           1           0   \n",
      "\n",
      "           tournament       city country  neutral  \n",
      "44325  FIFA World Cup       Doha   Qatar     True  \n",
      "44326  FIFA World Cup     Lusail   Qatar     True  \n",
      "44327  FIFA World Cup  Al Wakrah   Qatar     True  \n",
      "44328  FIFA World Cup  Al Rayyan   Qatar     True  \n"
     ]
    }
   ],
   "source": [
    "df_results = df\n",
    "\n",
    "print(df_results[df_results[\"date\"] == \"2022-11-30\"])"
   ]
  },
  {
   "cell_type": "markdown",
   "metadata": {},
   "source": [
    "Knowing how the World Cup games are labeled, create a new DataFrame `df_worldcup` that contains all World Cup games played in the dataset:\n"
   ]
  },
  {
   "cell_type": "code",
   "execution_count": 44,
   "metadata": {},
   "outputs": [
    {
     "data": {
      "text/html": [
       "<div>\n",
       "<style scoped>\n",
       "    .dataframe tbody tr th:only-of-type {\n",
       "        vertical-align: middle;\n",
       "    }\n",
       "\n",
       "    .dataframe tbody tr th {\n",
       "        vertical-align: top;\n",
       "    }\n",
       "\n",
       "    .dataframe thead th {\n",
       "        text-align: right;\n",
       "    }\n",
       "</style>\n",
       "<table border=\"1\" class=\"dataframe\">\n",
       "  <thead>\n",
       "    <tr style=\"text-align: right;\">\n",
       "      <th></th>\n",
       "      <th>date</th>\n",
       "      <th>home_team</th>\n",
       "      <th>away_team</th>\n",
       "      <th>home_score</th>\n",
       "      <th>away_score</th>\n",
       "      <th>tournament</th>\n",
       "      <th>city</th>\n",
       "      <th>country</th>\n",
       "      <th>neutral</th>\n",
       "    </tr>\n",
       "  </thead>\n",
       "  <tbody>\n",
       "    <tr>\n",
       "      <th>1311</th>\n",
       "      <td>1930-07-13</td>\n",
       "      <td>Belgium</td>\n",
       "      <td>United States</td>\n",
       "      <td>0</td>\n",
       "      <td>3</td>\n",
       "      <td>FIFA World Cup</td>\n",
       "      <td>Montevideo</td>\n",
       "      <td>Uruguay</td>\n",
       "      <td>True</td>\n",
       "    </tr>\n",
       "    <tr>\n",
       "      <th>1312</th>\n",
       "      <td>1930-07-13</td>\n",
       "      <td>France</td>\n",
       "      <td>Mexico</td>\n",
       "      <td>4</td>\n",
       "      <td>1</td>\n",
       "      <td>FIFA World Cup</td>\n",
       "      <td>Montevideo</td>\n",
       "      <td>Uruguay</td>\n",
       "      <td>True</td>\n",
       "    </tr>\n",
       "    <tr>\n",
       "      <th>1313</th>\n",
       "      <td>1930-07-14</td>\n",
       "      <td>Brazil</td>\n",
       "      <td>Yugoslavia</td>\n",
       "      <td>1</td>\n",
       "      <td>2</td>\n",
       "      <td>FIFA World Cup</td>\n",
       "      <td>Montevideo</td>\n",
       "      <td>Uruguay</td>\n",
       "      <td>True</td>\n",
       "    </tr>\n",
       "    <tr>\n",
       "      <th>1314</th>\n",
       "      <td>1930-07-14</td>\n",
       "      <td>Peru</td>\n",
       "      <td>Romania</td>\n",
       "      <td>1</td>\n",
       "      <td>3</td>\n",
       "      <td>FIFA World Cup</td>\n",
       "      <td>Montevideo</td>\n",
       "      <td>Uruguay</td>\n",
       "      <td>True</td>\n",
       "    </tr>\n",
       "    <tr>\n",
       "      <th>1315</th>\n",
       "      <td>1930-07-15</td>\n",
       "      <td>Argentina</td>\n",
       "      <td>France</td>\n",
       "      <td>1</td>\n",
       "      <td>0</td>\n",
       "      <td>FIFA World Cup</td>\n",
       "      <td>Montevideo</td>\n",
       "      <td>Uruguay</td>\n",
       "      <td>True</td>\n",
       "    </tr>\n",
       "  </tbody>\n",
       "</table>\n",
       "</div>"
      ],
      "text/plain": [
       "            date  home_team      away_team  home_score  away_score  \\\n",
       "1311  1930-07-13    Belgium  United States           0           3   \n",
       "1312  1930-07-13     France         Mexico           4           1   \n",
       "1313  1930-07-14     Brazil     Yugoslavia           1           2   \n",
       "1314  1930-07-14       Peru        Romania           1           3   \n",
       "1315  1930-07-15  Argentina         France           1           0   \n",
       "\n",
       "          tournament        city  country  neutral  \n",
       "1311  FIFA World Cup  Montevideo  Uruguay     True  \n",
       "1312  FIFA World Cup  Montevideo  Uruguay     True  \n",
       "1313  FIFA World Cup  Montevideo  Uruguay     True  \n",
       "1314  FIFA World Cup  Montevideo  Uruguay     True  \n",
       "1315  FIFA World Cup  Montevideo  Uruguay     True  "
      ]
     },
     "execution_count": 44,
     "metadata": {},
     "output_type": "execute_result"
    }
   ],
   "source": [
    "df_worldcup = df_results[df_results[\"tournament\"] == \"FIFA World Cup\"]\n",
    "df_worldcup.head()"
   ]
  },
  {
   "cell_type": "markdown",
   "metadata": {},
   "source": [
    "### 🔬 Checkpoint Tests 🔬\n"
   ]
  },
  {
   "cell_type": "code",
   "execution_count": 45,
   "metadata": {},
   "outputs": [
    {
     "name": "stdout",
     "output_type": "stream",
     "text": [
      "🎉 All Tests Passed! 🎉\n"
     ]
    }
   ],
   "source": [
    "## == CHECKPOINT TESTS ==\n",
    "# - This read-only cell contains a \"checkpoint\" for this section of the MicroProejct and verifies you are on the right track.\n",
    "# - If this cell results in a celebration message, you PASSED all test cases!\n",
    "# - If this cell results in any errors, check you previous cells, make changes, and RE-RUN your code and then this cell.\n",
    "tada = \"\\N{PARTY POPPER}\"\n",
    "\n",
    "assert \"df_worldcup\" in vars()\n",
    "\n",
    "assert len(df_worldcup) > 900\n",
    "assert len(df_worldcup[\"tournament\"].unique()) == 1\n",
    "assert \"World Cup\" in df_worldcup[\"tournament\"].unique()[0]\n",
    "\n",
    "print(f\"{tada} All Tests Passed! {tada}\")"
   ]
  },
  {
   "cell_type": "markdown",
   "metadata": {},
   "source": [
    "## Total Points Scored at The World Cup\n",
    "\n",
    "Calculate the number of goals scored in all World Cup matches and store that value in `total_WC_goals`:\n"
   ]
  },
  {
   "cell_type": "code",
   "execution_count": 49,
   "metadata": {},
   "outputs": [
    {
     "data": {
      "text/plain": [
       "2720"
      ]
     },
     "execution_count": 49,
     "metadata": {},
     "output_type": "execute_result"
    }
   ],
   "source": [
    "df_results.dropna()\n",
    "\n",
    "total_WC_goals = (\n",
    "    df_results[df_results[\"tournament\"] == \"FIFA World Cup\"].sum()[3]\n",
    "    + df_results[df_results[\"tournament\"] == \"FIFA World Cup\"].sum()[4]\n",
    ")\n",
    "total_WC_goals"
   ]
  },
  {
   "cell_type": "markdown",
   "metadata": {},
   "source": [
    "### 🔬 Checkpoint Tests 🔬\n"
   ]
  },
  {
   "cell_type": "code",
   "execution_count": 50,
   "metadata": {},
   "outputs": [
    {
     "name": "stdout",
     "output_type": "stream",
     "text": [
      "🎉 All Tests Passed! 🎉\n"
     ]
    }
   ],
   "source": [
    "## == CHECKPOINT TESTS ==\n",
    "# - This read-only cell contains a \"checkpoint\" for this section of the MicroProejct and verifies you are on the right track.\n",
    "# - If this cell results in a celebration message, you PASSED all test cases!\n",
    "# - If this cell results in any errors, check you previous cells, make changes, and RE-RUN your code and then this cell.\n",
    "tada = \"\\N{PARTY POPPER}\"\n",
    "\n",
    "assert (\n",
    "    df_clean[df_clean[\"tournament\"] == \"FIFA World Cup\"].sum()[3]\n",
    "    + df_clean[df_clean[\"tournament\"] == \"FIFA World Cup\"].sum()[4]\n",
    "    == total_WC_goals\n",
    ")\n",
    "\n",
    "print(f\"{tada} All Tests Passed! {tada}\")"
   ]
  },
  {
   "cell_type": "markdown",
   "metadata": {},
   "source": [
    "<hr style=\"color: #DD3403;\">\n"
   ]
  },
  {
   "cell_type": "markdown",
   "metadata": {},
   "source": [
    "## Part 3: United States Win Percentage\n",
    "\n",
    "Our dataset contains a home_team and away team column along with a home_score and away_score. Using these columns find the number of wins, losses, and ties the United States has.\n"
   ]
  },
  {
   "cell_type": "markdown",
   "metadata": {},
   "source": [
    "Use df_clean to get the number of wins the United States has and save it in a variable named `US_Wins`\n"
   ]
  },
  {
   "cell_type": "code",
   "execution_count": 70,
   "metadata": {},
   "outputs": [
    {
     "name": "stdout",
     "output_type": "stream",
     "text": [
      "323\n"
     ]
    }
   ],
   "source": [
    "US_home_matches = df_results[df_results[\"home_team\"] == \"United States\"]\n",
    "US_home_wins = len(\n",
    "    US_home_matches[US_home_matches[\"home_score\"] > US_home_matches[\"away_score\"]]\n",
    ")\n",
    "\n",
    "US_away_matches = df_results[df_results[\"away_team\"] == \"United States\"]\n",
    "US_away_wins = len(\n",
    "    US_away_matches[US_away_matches[\"away_score\"] > US_away_matches[\"home_score\"]]\n",
    ")\n",
    "\n",
    "US_Wins = US_home_wins + US_away_wins\n",
    "print(US_Wins)"
   ]
  },
  {
   "cell_type": "markdown",
   "metadata": {},
   "source": [
    "Use df_clean to get the number of losses the United States has and save it in a variable named `US_Loss`\n"
   ]
  },
  {
   "cell_type": "code",
   "execution_count": 74,
   "metadata": {},
   "outputs": [
    {
     "name": "stdout",
     "output_type": "stream",
     "text": [
      "256\n"
     ]
    }
   ],
   "source": [
    "US_home_loss = len(\n",
    "    US_home_matches[US_home_matches[\"home_score\"] < US_home_matches[\"away_score\"]]\n",
    ")\n",
    "\n",
    "US_away_loss = len(\n",
    "    US_away_matches[US_away_matches[\"away_score\"] < US_away_matches[\"home_score\"]]\n",
    ")\n",
    "\n",
    "US_Loss = US_away_loss + US_home_loss\n",
    "print(US_Loss)"
   ]
  },
  {
   "cell_type": "markdown",
   "metadata": {},
   "source": [
    "Use df_clean to get the number of draws(ties) the United States has and save it in a variable named `US_Draw`\n"
   ]
  },
  {
   "cell_type": "code",
   "execution_count": 76,
   "metadata": {},
   "outputs": [
    {
     "name": "stdout",
     "output_type": "stream",
     "text": [
      "155\n"
     ]
    }
   ],
   "source": [
    "US_matches = len(US_home_matches) + len(US_away_matches)\n",
    "US_Draw = US_matches - (US_Wins + US_Loss)\n",
    "print(US_Draw)"
   ]
  },
  {
   "cell_type": "markdown",
   "metadata": {},
   "source": [
    "### Calculate the Win Percentage of the United States\n",
    "\n",
    "Now, calculate the \"Win Percentage\" of the United States. In football(soccer), \"Win Percentage\" considers a win to be a win and a draw to be **half** of a win.\n",
    "\n",
    "Save this result as `US_WinPercent`\n"
   ]
  },
  {
   "cell_type": "code",
   "execution_count": 77,
   "metadata": {},
   "outputs": [
    {
     "name": "stdout",
     "output_type": "stream",
     "text": [
      "0.5456403269754768\n"
     ]
    }
   ],
   "source": [
    "US_WinPercent = (US_Wins + 0.5 * US_Draw) / (US_Wins + US_Draw + US_Loss)\n",
    "print(US_WinPercent)"
   ]
  },
  {
   "cell_type": "markdown",
   "metadata": {},
   "source": [
    "### 🔬 Checkpoint Tests 🔬\n"
   ]
  },
  {
   "cell_type": "code",
   "execution_count": 78,
   "metadata": {},
   "outputs": [
    {
     "name": "stdout",
     "output_type": "stream",
     "text": [
      "🎉 All Tests Passed! 🎉\n"
     ]
    }
   ],
   "source": [
    "## == CHECKPOINT TESTS ==\n",
    "# - This read-only cell contains a \"checkpoint\" for this section of the MicroProejct and verifies you are on the right track.\n",
    "# - If this cell results in a celebration message, you PASSED all test cases!\n",
    "# - If this cell results in any errors, check you previous cells, make changes, and RE-RUN your code and then this cell.\n",
    "\n",
    "tada = \"\\N{PARTY POPPER}\"\n",
    "\n",
    "assert \"US_Wins\" in vars()\n",
    "assert \"US_Loss\" in vars()\n",
    "assert \"US_Draw\" in vars()\n",
    "assert \"US_WinPercent\" in vars()\n",
    "\n",
    "\n",
    "assert (\n",
    "    len(\n",
    "        df_clean[\n",
    "            (\n",
    "                (df_clean.iloc[:, 1] == df_clean.iloc[41, 1])\n",
    "                & (df_clean.iloc[:, 3] > df_clean.iloc[:, 4])\n",
    "            )\n",
    "            | (df_clean.iloc[:, 2] == df_clean.iloc[41, 1])\n",
    "            & (df_clean.iloc[:, 3] < df_clean.iloc[:, 4])\n",
    "        ]\n",
    "    )\n",
    "    == US_Wins\n",
    ")\n",
    "assert (\n",
    "    len(\n",
    "        df_clean[\n",
    "            (\n",
    "                (df_clean.iloc[:, 1] == df_clean.iloc[41, 1])\n",
    "                & (df_clean.iloc[:, 3] < df_clean.iloc[:, 4])\n",
    "            )\n",
    "            | (df_clean.iloc[:, 2] == df_clean.iloc[41, 1])\n",
    "            & (df_clean.iloc[:, 3] > df_clean.iloc[:, 4])\n",
    "        ]\n",
    "    )\n",
    "    == US_Loss\n",
    ")\n",
    "assert (\n",
    "    len(\n",
    "        df_clean[\n",
    "            (\n",
    "                (df_clean.iloc[:, 1] == df_clean.iloc[41, 1])\n",
    "                & (df_clean.iloc[:, 3] == df_clean.iloc[:, 4])\n",
    "            )\n",
    "            | (df_clean.iloc[:, 2] == df_clean.iloc[41, 1])\n",
    "            & (df_clean.iloc[:, 3] == df_clean.iloc[:, 4])\n",
    "        ]\n",
    "    )\n",
    "    == US_Draw\n",
    ")\n",
    "\n",
    "assert (US_Wins + 0.5 * US_Draw) / (US_Draw + US_Loss + US_Wins) == US_WinPercent\n",
    "print(f\"{tada} All Tests Passed! {tada}\")"
   ]
  },
  {
   "cell_type": "markdown",
   "metadata": {},
   "source": [
    "<hr style=\"color: #DD3403;\">\n"
   ]
  },
  {
   "cell_type": "markdown",
   "metadata": {},
   "source": [
    "## Part 4: United States vs Netherlands\n",
    "\n",
    "On Saturday, December 3rd the United States will play (or has already played) Netherlands in the Round of 16 of the 2022 World Cup. Explore this dataset by looking at the games played between the two countries!\n",
    "\n",
    "Using the data in `df_clean`, find ALL games were US has played Netherlands and save it as `df_US_Netherlands`.\n",
    "\n",
    "- Note: You need to consider both when the Netherlands played the US at home **AND** when the US played Netherlands at home.\n"
   ]
  },
  {
   "cell_type": "code",
   "execution_count": 82,
   "metadata": {},
   "outputs": [
    {
     "name": "stdout",
     "output_type": "stream",
     "text": [
      "             date      home_team      away_team  home_score  away_score  \\\n",
      "21475  1998-02-21  United States    Netherlands           0           2   \n",
      "25147  2002-05-19  United States    Netherlands           0           2   \n",
      "26678  2004-02-18    Netherlands  United States           1           0   \n",
      "32391  2010-03-03    Netherlands  United States           2           1   \n",
      "37325  2015-06-05    Netherlands  United States           3           4   \n",
      "44337  2022-12-03    Netherlands  United States           3           1   \n",
      "\n",
      "           tournament           city        country  neutral  \n",
      "21475        Friendly  Miami Gardens  United States    False  \n",
      "25147        Friendly     Foxborough  United States    False  \n",
      "26678        Friendly      Amsterdam    Netherlands    False  \n",
      "32391        Friendly      Amsterdam    Netherlands    False  \n",
      "37325        Friendly      Amsterdam    Netherlands    False  \n",
      "44337  FIFA World Cup      Al Rayyan          Qatar     True  \n"
     ]
    }
   ],
   "source": [
    "df_US_Netherlands = df_results[\n",
    "    ((df_results[\"home_team\"] == \"Netherlands\") & (df_results[\"away_team\"] == \"United States\")) |\n",
    "    ((df_results[\"away_team\"] == \"Netherlands\") & (df_results[\"home_team\"] == \"United States\"))\n",
    "]\n",
    "print(df_US_Netherlands)"
   ]
  },
  {
   "cell_type": "code",
   "execution_count": 83,
   "metadata": {},
   "outputs": [
    {
     "name": "stdout",
     "output_type": "stream",
     "text": [
      "🎉 All Tests Passed! 🎉\n"
     ]
    }
   ],
   "source": [
    "## == CHECKPOINT TESTS ==\n",
    "# - This read-only cell contains a \"checkpoint\" for this section of the MicroProejct and verifies you are on the right track.\n",
    "# - If this cell results in a celebration message, you PASSED all test cases!\n",
    "# - If this cell results in any errors, check you previous cells, make changes, and RE-RUN your code and then this cell.\n",
    "\n",
    "tada = \"\\N{PARTY POPPER}\"\n",
    "\n",
    "assert \"df_US_Netherlands\" in vars()\n",
    "\n",
    "assert len(df_US_Netherlands) >= 5\n",
    "assert len(df_US_Netherlands[\"home_team\"].unique() == 2)\n",
    "assert len(df_US_Netherlands[\"away_team\"].unique() == 2)\n",
    "\n",
    "assert \"United States\" in df_US_Netherlands[\"home_team\"].unique()\n",
    "assert \"United States\" in df_US_Netherlands[\"away_team\"].unique()\n",
    "\n",
    "assert \"Netherlands\" in df_US_Netherlands[\"home_team\"].unique()\n",
    "assert \"Netherlands\" in df_US_Netherlands[\"away_team\"].unique()\n",
    "\n",
    "assert (\n",
    "    len(df_US_Netherlands[df_US_Netherlands[\"date\"].apply(lambda x: \"2015-06-05\" in x)])\n",
    "    == 1\n",
    ")\n",
    "assert (\n",
    "    len(df_US_Netherlands[df_US_Netherlands[\"date\"].apply(lambda x: \"2004-02-18\" in x)])\n",
    "    == 1\n",
    ")\n",
    "\n",
    "print(f\"{tada} All Tests Passed! {tada}\")"
   ]
  },
  {
   "cell_type": "markdown",
   "metadata": {},
   "source": [
    "<hr style=\"color: #DD3403;\">\n"
   ]
  },
  {
   "cell_type": "markdown",
   "metadata": {},
   "source": [
    "## Submission\n",
    "\n",
    "You're almost done! All you need to do is to commit your lab to GitHub and run the GitHub Actions Grader:\n",
    "\n",
    "1.  ⚠️ **Make certain to save your work.** ⚠️ To do this, go to **File => Save All**\n",
    "\n",
    "2.  After you have saved, exit this notebook and follow the instructions to commit and grade this MicroProject!\n"
   ]
  }
 ],
 "metadata": {
  "kernelspec": {
   "display_name": "Python 3.10.5 64-bit",
   "language": "python",
   "name": "python3"
  },
  "language_info": {
   "codemirror_mode": {
    "name": "ipython",
    "version": 3
   },
   "file_extension": ".py",
   "mimetype": "text/x-python",
   "name": "python",
   "nbconvert_exporter": "python",
   "pygments_lexer": "ipython3",
   "version": "3.10.11"
  },
  "orig_nbformat": 4,
  "vscode": {
   "interpreter": {
    "hash": "369f2c481f4da34e4445cda3fffd2e751bd1c4d706f27375911949ba6bb62e1c"
   }
  }
 },
 "nbformat": 4,
 "nbformat_minor": 2
}
